{
 "cells": [
  {
   "cell_type": "markdown",
   "id": "de7b94c6-96eb-413f-945b-4027adc91b58",
   "metadata": {
    "tags": []
   },
   "source": [
    "# socpy\n",
    "Query the [SOCcer API](https://soccer.nci.nih.gov/soccer/) \n",
    "with Python.\n",
    "\n",
    "## Description\n",
    "This package provides an interface to query the SOCcer API.\n",
    "The functionality is vectorized and returns responses in a\n",
    "structured manner (pandas dataframes).\n",
    "\n",
    "## Installation\n",
    "Install from [PyPI](https://pypi.org/) with pip:\n",
    "```\n",
    "pip install socpy\n",
    "```\n",
    "\n",
    "## Example\n",
    "This is a basic example of how to use the package:"
   ]
  },
  {
   "cell_type": "code",
   "execution_count": 1,
   "id": "42a659a2-5e9b-47c2-9352-3090d63f6fc2",
   "metadata": {},
   "outputs": [],
   "source": [
    "import socpy"
   ]
  },
  {
   "cell_type": "markdown",
   "id": "43dd2351-0c90-4f1b-a0c1-04bd850b451f",
   "metadata": {},
   "source": [
    "Using the built-in data set we can query the first three jobs and view the results. The first three job postings:"
   ]
  },
  {
   "cell_type": "code",
   "execution_count": 2,
   "id": "a5431c77-d55c-4b8f-95e5-bccc57b065b1",
   "metadata": {
    "tags": []
   },
   "outputs": [
    {
     "data": {
      "text/html": [
       "<div>\n",
       "<style scoped>\n",
       "    .dataframe tbody tr th:only-of-type {\n",
       "        vertical-align: middle;\n",
       "    }\n",
       "\n",
       "    .dataframe tbody tr th {\n",
       "        vertical-align: top;\n",
       "    }\n",
       "\n",
       "    .dataframe thead th {\n",
       "        text-align: right;\n",
       "    }\n",
       "</style>\n",
       "<table border=\"1\" class=\"dataframe\">\n",
       "  <thead>\n",
       "    <tr style=\"text-align: right;\">\n",
       "      <th></th>\n",
       "      <th>job_id</th>\n",
       "      <th>title</th>\n",
       "      <th>description</th>\n",
       "    </tr>\n",
       "  </thead>\n",
       "  <tbody>\n",
       "    <tr>\n",
       "      <th>0</th>\n",
       "      <td>140906257</td>\n",
       "      <td>deli clerk customer service</td>\n",
       "      <td>polite prompt knowledgeable|preparing order pa...</td>\n",
       "    </tr>\n",
       "    <tr>\n",
       "      <th>1</th>\n",
       "      <td>140974158</td>\n",
       "      <td>roll off truck driver class b cdl 3 000 bonus</td>\n",
       "      <td>operate manual automatic control accordance sa...</td>\n",
       "    </tr>\n",
       "    <tr>\n",
       "      <th>2</th>\n",
       "      <td>140923731</td>\n",
       "      <td>field engineer 3</td>\n",
       "      <td>perform advanced troubleshooting repair assign...</td>\n",
       "    </tr>\n",
       "  </tbody>\n",
       "</table>\n",
       "</div>"
      ],
      "text/plain": [
       "      job_id                                          title  \\\n",
       "0  140906257                    deli clerk customer service   \n",
       "1  140974158  roll off truck driver class b cdl 3 000 bonus   \n",
       "2  140923731                               field engineer 3   \n",
       "\n",
       "                                         description  \n",
       "0  polite prompt knowledgeable|preparing order pa...  \n",
       "1  operate manual automatic control accordance sa...  \n",
       "2  perform advanced troubleshooting repair assign...  "
      ]
     },
     "execution_count": 2,
     "metadata": {},
     "output_type": "execute_result"
    }
   ],
   "source": [
    "job_desc = socpy.load_jobs()\n",
    "job_desc.head(3)"
   ]
  },
  {
   "cell_type": "markdown",
   "id": "824f4931-0e91-4dc2-940a-c50dd621e73d",
   "metadata": {},
   "source": [
    "Now, using socpy to return the top three SOC matches for each:"
   ]
  },
  {
   "cell_type": "code",
   "execution_count": 3,
   "id": "73055a7c-62df-4387-8c1c-54b5f3690cfe",
   "metadata": {},
   "outputs": [],
   "source": [
    "jobs = socpy.soccer(\n",
    "    job_title = list(job_desc.loc[0:2, 'title']),\n",
    "    job_desc = list(job_desc.loc[0:2, 'description']),\n",
    "    n_results = 3,\n",
    "    job_id = list(job_desc.loc[0:2, 'job_id'])\n",
    ")"
   ]
  },
  {
   "cell_type": "markdown",
   "id": "eb301fef-72a0-4bd5-a477-5bf4873444f8",
   "metadata": {},
   "source": [
    "The `jobs` object has two methods; namely, `jobs.problems` which contains any API requests that encountered issues, and `jobs.valid` which contains the output from all valid API requests. First, we can ensure that no problems were encountered when querying the API:"
   ]
  },
  {
   "cell_type": "code",
   "execution_count": 4,
   "id": "16d9ca0d-3e29-4ef2-9338-b531ecb3808e",
   "metadata": {},
   "outputs": [
    {
     "data": {
      "text/plain": [
       "True"
      ]
     },
     "execution_count": 4,
     "metadata": {},
     "output_type": "execute_result"
    }
   ],
   "source": [
    "jobs.problems == None"
   ]
  },
  {
   "cell_type": "markdown",
   "id": "6ed7f963-3330-42d1-b93d-cb1f072fbba1",
   "metadata": {},
   "source": [
    "Next, we can view the top three results for each of our three job descriptions."
   ]
  },
  {
   "cell_type": "code",
   "execution_count": 5,
   "id": "64932458-89eb-46dc-a9a2-a334cd2db154",
   "metadata": {},
   "outputs": [
    {
     "data": {
      "text/html": [
       "<div>\n",
       "<style scoped>\n",
       "    .dataframe tbody tr th:only-of-type {\n",
       "        vertical-align: middle;\n",
       "    }\n",
       "\n",
       "    .dataframe tbody tr th {\n",
       "        vertical-align: top;\n",
       "    }\n",
       "\n",
       "    .dataframe thead th {\n",
       "        text-align: right;\n",
       "    }\n",
       "</style>\n",
       "<table border=\"1\" class=\"dataframe\">\n",
       "  <thead>\n",
       "    <tr style=\"text-align: right;\">\n",
       "      <th></th>\n",
       "      <th>code</th>\n",
       "      <th>label</th>\n",
       "      <th>score</th>\n",
       "      <th>job_id</th>\n",
       "    </tr>\n",
       "  </thead>\n",
       "  <tbody>\n",
       "    <tr>\n",
       "      <th>0</th>\n",
       "      <td>43-4051</td>\n",
       "      <td>Customer Service Representatives</td>\n",
       "      <td>0.202345</td>\n",
       "      <td>140906257</td>\n",
       "    </tr>\n",
       "    <tr>\n",
       "      <th>1</th>\n",
       "      <td>35-2021</td>\n",
       "      <td>Food Preparation Workers</td>\n",
       "      <td>0.107131</td>\n",
       "      <td>140906257</td>\n",
       "    </tr>\n",
       "    <tr>\n",
       "      <th>2</th>\n",
       "      <td>35-3021</td>\n",
       "      <td>Combined Food Preparation and Serving Workers,...</td>\n",
       "      <td>0.060109</td>\n",
       "      <td>140906257</td>\n",
       "    </tr>\n",
       "    <tr>\n",
       "      <th>3</th>\n",
       "      <td>53-3032</td>\n",
       "      <td>Heavy and Tractor-Trailer Truck Drivers</td>\n",
       "      <td>0.969044</td>\n",
       "      <td>140974158</td>\n",
       "    </tr>\n",
       "    <tr>\n",
       "      <th>4</th>\n",
       "      <td>53-3011</td>\n",
       "      <td>Ambulance Drivers and Attendants, Except Emerg...</td>\n",
       "      <td>0.003048</td>\n",
       "      <td>140974158</td>\n",
       "    </tr>\n",
       "    <tr>\n",
       "      <th>5</th>\n",
       "      <td>55-3014</td>\n",
       "      <td>Artillery and Missile Crew Members</td>\n",
       "      <td>0.001014</td>\n",
       "      <td>140974158</td>\n",
       "    </tr>\n",
       "    <tr>\n",
       "      <th>6</th>\n",
       "      <td>43-9061</td>\n",
       "      <td>Office Clerks, General</td>\n",
       "      <td>0.019577</td>\n",
       "      <td>140923731</td>\n",
       "    </tr>\n",
       "    <tr>\n",
       "      <th>7</th>\n",
       "      <td>17-2112</td>\n",
       "      <td>Industrial Engineers</td>\n",
       "      <td>0.005500</td>\n",
       "      <td>140923731</td>\n",
       "    </tr>\n",
       "    <tr>\n",
       "      <th>8</th>\n",
       "      <td>17-2171</td>\n",
       "      <td>Petroleum Engineers</td>\n",
       "      <td>0.005500</td>\n",
       "      <td>140923731</td>\n",
       "    </tr>\n",
       "  </tbody>\n",
       "</table>\n",
       "</div>"
      ],
      "text/plain": [
       "      code                                              label     score  \\\n",
       "0  43-4051                   Customer Service Representatives  0.202345   \n",
       "1  35-2021                           Food Preparation Workers  0.107131   \n",
       "2  35-3021  Combined Food Preparation and Serving Workers,...  0.060109   \n",
       "3  53-3032            Heavy and Tractor-Trailer Truck Drivers  0.969044   \n",
       "4  53-3011  Ambulance Drivers and Attendants, Except Emerg...  0.003048   \n",
       "5  55-3014                 Artillery and Missile Crew Members  0.001014   \n",
       "6  43-9061                             Office Clerks, General  0.019577   \n",
       "7  17-2112                               Industrial Engineers  0.005500   \n",
       "8  17-2171                                Petroleum Engineers  0.005500   \n",
       "\n",
       "      job_id  \n",
       "0  140906257  \n",
       "1  140906257  \n",
       "2  140906257  \n",
       "3  140974158  \n",
       "4  140974158  \n",
       "5  140974158  \n",
       "6  140923731  \n",
       "7  140923731  \n",
       "8  140923731  "
      ]
     },
     "execution_count": 5,
     "metadata": {},
     "output_type": "execute_result"
    }
   ],
   "source": [
    "jobs.valid"
   ]
  }
 ],
 "metadata": {
  "kernelspec": {
   "display_name": "soccer-test",
   "language": "python",
   "name": "soccer-test"
  },
  "language_info": {
   "codemirror_mode": {
    "name": "ipython",
    "version": 3
   },
   "file_extension": ".py",
   "mimetype": "text/x-python",
   "name": "python",
   "nbconvert_exporter": "python",
   "pygments_lexer": "ipython3",
   "version": "3.9.7"
  }
 },
 "nbformat": 4,
 "nbformat_minor": 5
}
